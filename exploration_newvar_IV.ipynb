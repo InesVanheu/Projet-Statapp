{
 "cells": [
  {
   "cell_type": "code",
   "execution_count": 1,
   "id": "552b06c1",
   "metadata": {
    "scrolled": true
   },
   "outputs": [
    {
     "name": "stdout",
     "output_type": "stream",
     "text": [
      "Requirement already satisfied: pyarrow in /opt/mamba/lib/python3.10/site-packages (10.0.1)\n",
      "Requirement already satisfied: numpy>=1.16.6 in /opt/mamba/lib/python3.10/site-packages (from pyarrow) (1.23.5)\n",
      "Note: you may need to restart the kernel to use updated packages.\n"
     ]
    }
   ],
   "source": [
    "pip install pyarrow"
   ]
  },
  {
   "cell_type": "code",
   "execution_count": 2,
   "id": "9ca86a48",
   "metadata": {},
   "outputs": [],
   "source": [
    "import pyarrow"
   ]
  },
  {
   "cell_type": "code",
   "execution_count": 3,
   "id": "c97c7385",
   "metadata": {},
   "outputs": [],
   "source": [
    "import seaborn as sns\n",
    "import matplotlib.pyplot as plt\n"
   ]
  },
  {
   "cell_type": "code",
   "execution_count": 4,
   "id": "fbdb93ca",
   "metadata": {},
   "outputs": [],
   "source": [
    "import os\n",
    "import dask.dataframe as dd\n",
    "import datetime as dt\n",
    "import pandas as pd\n",
    "import warnings\n",
    "warnings.filterwarnings(\"ignore\")"
   ]
  },
  {
   "cell_type": "code",
   "execution_count": 16,
   "id": "53919381",
   "metadata": {},
   "outputs": [
    {
     "ename": "FileNotFoundError",
     "evalue": "[Errno 2] No such file or directory: '/cct_var_new.parquet'",
     "output_type": "error",
     "traceback": [
      "\u001b[0;31m---------------------------------------------------------------------------\u001b[0m",
      "\u001b[0;31mFileNotFoundError\u001b[0m                         Traceback (most recent call last)",
      "Cell \u001b[0;32mIn[16], line 1\u001b[0m\n\u001b[0;32m----> 1\u001b[0m df_cct \u001b[39m=\u001b[39m pd\u001b[39m.\u001b[39;49mread_parquet(\u001b[39m\"\u001b[39;49m\u001b[39m/cct_var_new.parquet\u001b[39;49m\u001b[39m\"\u001b[39;49m)\n",
      "File \u001b[0;32m/opt/mamba/lib/python3.10/site-packages/pandas/io/parquet.py:503\u001b[0m, in \u001b[0;36mread_parquet\u001b[0;34m(path, engine, columns, storage_options, use_nullable_dtypes, **kwargs)\u001b[0m\n\u001b[1;32m    456\u001b[0m \u001b[39m\u001b[39m\u001b[39m\"\"\"\u001b[39;00m\n\u001b[1;32m    457\u001b[0m \u001b[39mLoad a parquet object from the file path, returning a DataFrame.\u001b[39;00m\n\u001b[1;32m    458\u001b[0m \n\u001b[0;32m   (...)\u001b[0m\n\u001b[1;32m    499\u001b[0m \u001b[39mDataFrame\u001b[39;00m\n\u001b[1;32m    500\u001b[0m \u001b[39m\"\"\"\u001b[39;00m\n\u001b[1;32m    501\u001b[0m impl \u001b[39m=\u001b[39m get_engine(engine)\n\u001b[0;32m--> 503\u001b[0m \u001b[39mreturn\u001b[39;00m impl\u001b[39m.\u001b[39;49mread(\n\u001b[1;32m    504\u001b[0m     path,\n\u001b[1;32m    505\u001b[0m     columns\u001b[39m=\u001b[39;49mcolumns,\n\u001b[1;32m    506\u001b[0m     storage_options\u001b[39m=\u001b[39;49mstorage_options,\n\u001b[1;32m    507\u001b[0m     use_nullable_dtypes\u001b[39m=\u001b[39;49muse_nullable_dtypes,\n\u001b[1;32m    508\u001b[0m     \u001b[39m*\u001b[39;49m\u001b[39m*\u001b[39;49mkwargs,\n\u001b[1;32m    509\u001b[0m )\n",
      "File \u001b[0;32m/opt/mamba/lib/python3.10/site-packages/pandas/io/parquet.py:244\u001b[0m, in \u001b[0;36mPyArrowImpl.read\u001b[0;34m(self, path, columns, use_nullable_dtypes, storage_options, **kwargs)\u001b[0m\n\u001b[1;32m    241\u001b[0m \u001b[39mif\u001b[39;00m manager \u001b[39m==\u001b[39m \u001b[39m\"\u001b[39m\u001b[39marray\u001b[39m\u001b[39m\"\u001b[39m:\n\u001b[1;32m    242\u001b[0m     to_pandas_kwargs[\u001b[39m\"\u001b[39m\u001b[39msplit_blocks\u001b[39m\u001b[39m\"\u001b[39m] \u001b[39m=\u001b[39m \u001b[39mTrue\u001b[39;00m  \u001b[39m# type: ignore[assignment]\u001b[39;00m\n\u001b[0;32m--> 244\u001b[0m path_or_handle, handles, kwargs[\u001b[39m\"\u001b[39m\u001b[39mfilesystem\u001b[39m\u001b[39m\"\u001b[39m] \u001b[39m=\u001b[39m _get_path_or_handle(\n\u001b[1;32m    245\u001b[0m     path,\n\u001b[1;32m    246\u001b[0m     kwargs\u001b[39m.\u001b[39;49mpop(\u001b[39m\"\u001b[39;49m\u001b[39mfilesystem\u001b[39;49m\u001b[39m\"\u001b[39;49m, \u001b[39mNone\u001b[39;49;00m),\n\u001b[1;32m    247\u001b[0m     storage_options\u001b[39m=\u001b[39;49mstorage_options,\n\u001b[1;32m    248\u001b[0m     mode\u001b[39m=\u001b[39;49m\u001b[39m\"\u001b[39;49m\u001b[39mrb\u001b[39;49m\u001b[39m\"\u001b[39;49m,\n\u001b[1;32m    249\u001b[0m )\n\u001b[1;32m    250\u001b[0m \u001b[39mtry\u001b[39;00m:\n\u001b[1;32m    251\u001b[0m     result \u001b[39m=\u001b[39m \u001b[39mself\u001b[39m\u001b[39m.\u001b[39mapi\u001b[39m.\u001b[39mparquet\u001b[39m.\u001b[39mread_table(\n\u001b[1;32m    252\u001b[0m         path_or_handle, columns\u001b[39m=\u001b[39mcolumns, \u001b[39m*\u001b[39m\u001b[39m*\u001b[39mkwargs\n\u001b[1;32m    253\u001b[0m     )\u001b[39m.\u001b[39mto_pandas(\u001b[39m*\u001b[39m\u001b[39m*\u001b[39mto_pandas_kwargs)\n",
      "File \u001b[0;32m/opt/mamba/lib/python3.10/site-packages/pandas/io/parquet.py:102\u001b[0m, in \u001b[0;36m_get_path_or_handle\u001b[0;34m(path, fs, storage_options, mode, is_dir)\u001b[0m\n\u001b[1;32m     92\u001b[0m handles \u001b[39m=\u001b[39m \u001b[39mNone\u001b[39;00m\n\u001b[1;32m     93\u001b[0m \u001b[39mif\u001b[39;00m (\n\u001b[1;32m     94\u001b[0m     \u001b[39mnot\u001b[39;00m fs\n\u001b[1;32m     95\u001b[0m     \u001b[39mand\u001b[39;00m \u001b[39mnot\u001b[39;00m is_dir\n\u001b[0;32m   (...)\u001b[0m\n\u001b[1;32m    100\u001b[0m     \u001b[39m# fsspec resources can also point to directories\u001b[39;00m\n\u001b[1;32m    101\u001b[0m     \u001b[39m# this branch is used for example when reading from non-fsspec URLs\u001b[39;00m\n\u001b[0;32m--> 102\u001b[0m     handles \u001b[39m=\u001b[39m get_handle(\n\u001b[1;32m    103\u001b[0m         path_or_handle, mode, is_text\u001b[39m=\u001b[39;49m\u001b[39mFalse\u001b[39;49;00m, storage_options\u001b[39m=\u001b[39;49mstorage_options\n\u001b[1;32m    104\u001b[0m     )\n\u001b[1;32m    105\u001b[0m     fs \u001b[39m=\u001b[39m \u001b[39mNone\u001b[39;00m\n\u001b[1;32m    106\u001b[0m     path_or_handle \u001b[39m=\u001b[39m handles\u001b[39m.\u001b[39mhandle\n",
      "File \u001b[0;32m/opt/mamba/lib/python3.10/site-packages/pandas/io/common.py:865\u001b[0m, in \u001b[0;36mget_handle\u001b[0;34m(path_or_buf, mode, encoding, compression, memory_map, is_text, errors, storage_options)\u001b[0m\n\u001b[1;32m    856\u001b[0m         handle \u001b[39m=\u001b[39m \u001b[39mopen\u001b[39m(\n\u001b[1;32m    857\u001b[0m             handle,\n\u001b[1;32m    858\u001b[0m             ioargs\u001b[39m.\u001b[39mmode,\n\u001b[0;32m   (...)\u001b[0m\n\u001b[1;32m    861\u001b[0m             newline\u001b[39m=\u001b[39m\u001b[39m\"\u001b[39m\u001b[39m\"\u001b[39m,\n\u001b[1;32m    862\u001b[0m         )\n\u001b[1;32m    863\u001b[0m     \u001b[39melse\u001b[39;00m:\n\u001b[1;32m    864\u001b[0m         \u001b[39m# Binary mode\u001b[39;00m\n\u001b[0;32m--> 865\u001b[0m         handle \u001b[39m=\u001b[39m \u001b[39mopen\u001b[39;49m(handle, ioargs\u001b[39m.\u001b[39;49mmode)\n\u001b[1;32m    866\u001b[0m     handles\u001b[39m.\u001b[39mappend(handle)\n\u001b[1;32m    868\u001b[0m \u001b[39m# Convert BytesIO or file objects passed with an encoding\u001b[39;00m\n",
      "\u001b[0;31mFileNotFoundError\u001b[0m: [Errno 2] No such file or directory: '/cct_var_new.parquet'"
     ]
    }
   ],
   "source": [
    "df_cct = pd.read_parquet(\"/cct_var_new.parquet\")\n"
   ]
  },
  {
   "cell_type": "code",
   "execution_count": null,
   "metadata": {},
   "outputs": [],
   "source": []
  },
  {
   "cell_type": "code",
   "execution_count": null,
   "id": "e245ab36",
   "metadata": {},
   "outputs": [],
   "source": [
    "df_cct = pd.read_parquet(\"/Users/vanheuverswyn/Downloads/cct_var_new.parquet\")\n"
   ]
  },
  {
   "cell_type": "code",
   "execution_count": null,
   "id": "e126be51",
   "metadata": {},
   "outputs": [],
   "source": [
    "df_cct"
   ]
  },
  {
   "cell_type": "code",
   "execution_count": null,
   "id": "dfa162ae",
   "metadata": {},
   "outputs": [],
   "source": [
    "df_cct.columns"
   ]
  },
  {
   "cell_type": "code",
   "execution_count": null,
   "id": "d0279778",
   "metadata": {},
   "outputs": [],
   "source": [
    "column_list=['User', 'Card', 'date', 'timestamp', 'Amount', 'Use Chip',\n",
    "       'Merchant Name', 'Merchant City', 'Merchant State', 'Zip', 'MCC',\n",
    "       'Errors?', 'Is Fraud?', 'delta_t_s', 'delta_t_s_card', 'day_amt',\n",
    "       'day_nbt', 'day_med_nbt', 'wk_i_nbt', 'wk_med_nbt', 'wk_i_amt',\n",
    "       'wk_med_amt', 'wk_i_med_amt', 'nbt_wk_i/amt_wk_i', 'amt/day_income',\n",
    "       'merchant_user_state_is_diff', 'rolling_nb_frauds_wk', 'rolling_nbt_wk',\n",
    "       'rolling_amt_wk', 'rolling_amt_med_wk', 'rolling_nbt_wk/amt_wk']"
   ]
  },
  {
   "cell_type": "code",
   "execution_count": null,
   "id": "3e9aebd1",
   "metadata": {},
   "outputs": [],
   "source": [
    "new_var_list=['delta_t_s', 'delta_t_s_card', 'day_amt',\n",
    "       'day_nbt', 'day_med_nbt', 'wk_i_nbt', 'wk_med_nbt', 'wk_i_amt',\n",
    "       'wk_med_amt', 'wk_i_med_amt', 'nbt_wk_i/amt_wk_i', 'amt/day_income', 'rolling_nb_frauds_wk', 'rolling_nbt_wk',\n",
    "       'rolling_amt_wk', 'rolling_amt_med_wk', 'rolling_nbt_wk/amt_wk']"
   ]
  },
  {
   "cell_type": "code",
   "execution_count": null,
   "id": "56cd8b76",
   "metadata": {},
   "outputs": [],
   "source": [
    "sns.catplot(data = df_cct, x = 'Is Fraud?', y = 'day_nbt')\n",
    "plt.show()"
   ]
  },
  {
   "cell_type": "code",
   "execution_count": null,
   "id": "b45e2172",
   "metadata": {},
   "outputs": [],
   "source": [
    "sns.catplot(data = df_cct, x = 'Is Fraud?', y = 'wk_i_nbt')\n",
    "plt.show()"
   ]
  },
  {
   "cell_type": "code",
   "execution_count": null,
   "id": "d3d60868",
   "metadata": {},
   "outputs": [],
   "source": [
    "sns.catplot(data = df_cct, x = 'Is Fraud?', y = 'wk_med_nbt')\n",
    "plt.show()"
   ]
  },
  {
   "cell_type": "code",
   "execution_count": null,
   "id": "6d52aab0",
   "metadata": {},
   "outputs": [],
   "source": [
    "sns.catplot(data = df_cct, x = 'Is Fraud?', y = 'delta_t_s')\n",
    "plt.show()"
   ]
  },
  {
   "cell_type": "code",
   "execution_count": null,
   "id": "a5890647",
   "metadata": {},
   "outputs": [],
   "source": [
    "sns.catplot(data = df_cct, x = 'Is Fraud?', y = 'delta_t_s')\n",
    "plt.show()"
   ]
  },
  {
   "cell_type": "code",
   "execution_count": null,
   "id": "d39009ef",
   "metadata": {},
   "outputs": [],
   "source": [
    "sns.catplot(data = df_cct, x = 'Is Fraud?', y = 'delta_t_s')\n",
    "plt.show()"
   ]
  },
  {
   "cell_type": "code",
   "execution_count": null,
   "id": "12a18e58",
   "metadata": {},
   "outputs": [],
   "source": [
    "sns.catplot(data = df_cct, x = 'Is Fraud?', y = 'delta_t_s_card')\n",
    "plt.show()"
   ]
  },
  {
   "cell_type": "code",
   "execution_count": null,
   "id": "71aeb517",
   "metadata": {},
   "outputs": [],
   "source": [
    "sns.catplot(data = df_cct, x = 'Is Fraud?', y = 'day_amt')\n",
    "plt.show()"
   ]
  },
  {
   "cell_type": "code",
   "execution_count": null,
   "id": "d307b749",
   "metadata": {},
   "outputs": [],
   "source": [
    "sns.catplot(data = df_cct, x = 'Is Fraud?', y = 'rolling_nbt_wk/amt_wk')\n",
    "plt.show()"
   ]
  },
  {
   "cell_type": "code",
   "execution_count": null,
   "id": "23ad6193",
   "metadata": {},
   "outputs": [],
   "source": [
    "sns.catplot(data = df_cct, x = 'Is Fraud?', y = 'amt/day_income')\n",
    "plt.show()"
   ]
  },
  {
   "cell_type": "code",
   "execution_count": null,
   "id": "7f4f8c8d",
   "metadata": {},
   "outputs": [],
   "source": [
    "sns.catplot(data = df_cct, x = 'Is Fraud?', y = 'rolling_nb_frauds_wk')\n",
    "plt.show()"
   ]
  },
  {
   "cell_type": "code",
   "execution_count": null,
   "id": "f9fb3bc0",
   "metadata": {},
   "outputs": [],
   "source": [
    "df = df_cct[df_cct[\"merchant_user_state_is_diff\"]==0]\n",
    "nb_fraud = df['Is Fraud?'].value_counts()\n",
    "nb_transaction = df.shape[0]"
   ]
  },
  {
   "cell_type": "code",
   "execution_count": null,
   "id": "202058bd",
   "metadata": {},
   "outputs": [],
   "source": [
    "nb_fraud"
   ]
  },
  {
   "cell_type": "code",
   "execution_count": null,
   "id": "f6775641",
   "metadata": {},
   "outputs": [],
   "source": [
    "df = df_cct[df_cct[\"merchant_user_state_is_diff\"]==1]\n",
    "nb_fraud = df['Is Fraud?'].value_counts()"
   ]
  },
  {
   "cell_type": "code",
   "execution_count": null,
   "id": "cd60f5ba",
   "metadata": {},
   "outputs": [],
   "source": [
    "import plotly.express as px\n",
    "df=df_cct[new_var_list]\n",
    "\n",
    "fig = px.imshow(df.corr())\n",
    "fig.show()"
   ]
  },
  {
   "cell_type": "code",
   "execution_count": null,
   "id": "a7d2a79b",
   "metadata": {},
   "outputs": [],
   "source": [
    "df=df_cct[new_var_list]\n",
    "plt.matshow(df.corr())\n",
    "plt.show()"
   ]
  },
  {
   "cell_type": "code",
   "execution_count": null,
   "id": "cbd01bba",
   "metadata": {},
   "outputs": [],
   "source": [
    "df_cct[\"amt/day_income\"].describe()"
   ]
  },
  {
   "cell_type": "code",
   "execution_count": null,
   "id": "995ca3fd",
   "metadata": {},
   "outputs": [],
   "source": [
    "df_cct = pd.read_parquet(\"/Users/vanheuverswyn/Downloads/df_cct_final.parquet\")\n"
   ]
  },
  {
   "cell_type": "code",
   "execution_count": null,
   "id": "99f0088e",
   "metadata": {},
   "outputs": [],
   "source": [
    "df_cct"
   ]
  },
  {
   "cell_type": "code",
   "execution_count": null,
   "id": "6e7b01de",
   "metadata": {},
   "outputs": [],
   "source": [
    "df_cct.columns"
   ]
  },
  {
   "cell_type": "code",
   "execution_count": null,
   "id": "82b81d50",
   "metadata": {},
   "outputs": [],
   "source": [
    "\n",
    "\n",
    "fig = px.imshow(df_cct.corr())\n",
    "fig.show()"
   ]
  },
  {
   "cell_type": "code",
   "execution_count": null,
   "id": "499ddd3f",
   "metadata": {},
   "outputs": [],
   "source": [
    "new_var_list=['User', 'Card', 'Month', 'Day', 'day_of_week', 'Hours', 'Amount', 'Merchant City','Merchant State','delta_t_s', 'delta_t_s_card', 'amt/daily_income', 'Retired','daily_amount', 'nb_daily_declines_card', 'bad_pin','insufficient_balance', 'hr_nbt/last_30d_av_hr_nbt', 'last_3d_amt/nbt', 'Is Fraud?']\n",
    "df=df_cct[new_var_list]\n",
    "\n",
    "fig = px.imshow(df.corr())\n",
    "fig.show()\n",
    "        \n",
    "        \n",
    "        \n",
    "        \n",
    "        "
   ]
  },
  {
   "cell_type": "code",
   "execution_count": null,
   "id": "a2416ab2",
   "metadata": {},
   "outputs": [],
   "source": [
    "sns.catplot(data = df_cct, x = 'Is Fraud?', y = 'Day')\n",
    "plt.show()"
   ]
  },
  {
   "cell_type": "code",
   "execution_count": null,
   "id": "fc2beb68",
   "metadata": {},
   "outputs": [],
   "source": [
    "df_cct['day_of_week','']"
   ]
  },
  {
   "cell_type": "code",
   "execution_count": null,
   "id": "18588697",
   "metadata": {},
   "outputs": [],
   "source": [
    "sns.catplot(data = df_cct, x = 'Is Fraud?', y = 'day_of_week')\n",
    "plt.show()"
   ]
  },
  {
   "cell_type": "code",
   "execution_count": null,
   "id": "098ffdd8",
   "metadata": {},
   "outputs": [],
   "source": [
    "sns.catplot(data = df_cct, x = 'Is Fraud?', y = 'Amount')\n",
    "plt.show()"
   ]
  },
  {
   "cell_type": "code",
   "execution_count": null,
   "id": "a2fa9d0a",
   "metadata": {},
   "outputs": [],
   "source": [
    "sns.catplot(data = df_cct, x = 'Is Fraud?', y = 'amt/daily_income')\n",
    "plt.show()"
   ]
  },
  {
   "cell_type": "code",
   "execution_count": null,
   "id": "0ab4895b",
   "metadata": {},
   "outputs": [],
   "source": [
    "sns.catplot(data = df_cct, x = 'Is Fraud?', y = 'nb_daily_declines_card')\n",
    "plt.show()"
   ]
  },
  {
   "cell_type": "code",
   "execution_count": null,
   "id": "de7e4cf8",
   "metadata": {},
   "outputs": [],
   "source": [
    "df_cct[\"insufficient_balance\"].describe()"
   ]
  },
  {
   "cell_type": "code",
   "execution_count": null,
   "id": "2f9c8578",
   "metadata": {},
   "outputs": [],
   "source": [
    "sns.catplot(data = df_cct, x = 'Is Fraud?', y = 'insufficient_balance')\n",
    "plt.show()"
   ]
  },
  {
   "cell_type": "code",
   "execution_count": null,
   "id": "73257c86",
   "metadata": {},
   "outputs": [],
   "source": [
    "sns.catplot(data = df_cct, x = 'Is Fraud?', y = 'bad_pin')\n",
    "plt.show()"
   ]
  },
  {
   "cell_type": "code",
   "execution_count": null,
   "id": "9e0a43ef",
   "metadata": {},
   "outputs": [],
   "source": [
    "sns.catplot(data = df_cct, x = 'Is Fraud?', y = 'hr_nbt/last_30d_av_hr_nbt')\n",
    "plt.show()"
   ]
  },
  {
   "cell_type": "code",
   "execution_count": null,
   "id": "9333afd8",
   "metadata": {},
   "outputs": [],
   "source": []
  },
  {
   "cell_type": "code",
   "execution_count": null,
   "id": "8ee264f8",
   "metadata": {},
   "outputs": [],
   "source": [
    "sns.catplot(data = df_cct, x = 'Is Fraud?', y = 'last_18h_nbt')\n",
    "plt.show()"
   ]
  },
  {
   "cell_type": "code",
   "execution_count": null,
   "id": "ed8d4ad8",
   "metadata": {},
   "outputs": [],
   "source": [
    "sns.catplot(data = df_cct, x = 'Is Fraud?', y = 'last_18h_amt')\n",
    "plt.show()"
   ]
  },
  {
   "cell_type": "code",
   "execution_count": null,
   "id": "9ad38357",
   "metadata": {},
   "outputs": [],
   "source": [
    "sns.catplot(data = df_cct, x = 'Is Fraud?', y = 'last_3d_amt/nbt')\n",
    "plt.show()"
   ]
  },
  {
   "cell_type": "code",
   "execution_count": null,
   "id": "e0189fc8",
   "metadata": {},
   "outputs": [],
   "source": [
    "sns.catplot(data = df_cct, x = 'Is Fraud?', y = 'Day')\n",
    "plt.show()"
   ]
  },
  {
   "cell_type": "code",
   "execution_count": null,
   "id": "bc84275b",
   "metadata": {},
   "outputs": [],
   "source": []
  },
  {
   "cell_type": "code",
   "execution_count": null,
   "id": "0ab08d77",
   "metadata": {},
   "outputs": [],
   "source": []
  },
  {
   "cell_type": "code",
   "execution_count": null,
   "id": "07f6e9fb",
   "metadata": {},
   "outputs": [],
   "source": [
    "df=df_cct[new_var_list]\n",
    "df_fraud = df[df['Is Fraud?']==1].sample(100)\n",
    "df_no_fraud = df[df['Is Fraud?']==0].sample(100)\n",
    "df_sample = pd.concat([df_fraud,df_no_fraud])\n",
    "\n",
    "sns.pairplot(df_sample,hue=\"Is Fraud?\")"
   ]
  },
  {
   "cell_type": "code",
   "execution_count": null,
   "id": "3aaab196",
   "metadata": {},
   "outputs": [],
   "source": [
    "df_cct=df\n",
    "plt.figure(figsize=(25,4))\n",
    "\n",
    "plt.subplot(1,4,1)\n",
    "sns.histplot(x='nb_daily_declines_card',data=df_cct[df_cct[\"Is Fraud?\"] == 0], stat='percent')\n",
    "plt.xlabel(\"nb_daily_declines_card\")\n",
    "plt.title(\"No Fraud\")\n",
    "\n",
    "plt.subplot(1,4,2) \n",
    "sns.histplot(x='nb_daily_declines_card',data=df_cct[df_cct[\"Is Fraud?\"] == 1 ],stat='percent', color = 'orange')\n",
    "plt.xlabel(\"nb_daily_declines_card\")\n",
    "plt.title(\"Fraud\")\n",
    "\n",
    "plt.tight_layout()\n",
    "plt.show()"
   ]
  },
  {
   "cell_type": "code",
   "execution_count": null,
   "id": "caa9d72a",
   "metadata": {},
   "outputs": [],
   "source": [
    "df_cct=df\n",
    "plt.figure(figsize=(25,4))\n",
    "\n",
    "plt.subplot(2,4,1)\n",
    "sns.histplot(x='bad_pin',data=df_cct[df_cct[\"Is Fraud?\"] == 0], bins=2,stat='percent')\n",
    "plt.xlabel(\"bad_pin\")\n",
    "plt.title(\"No Fraud\")\n",
    "\n",
    "plt.subplot(2,4,2) \n",
    "sns.histplot(x='bad_pin',data=df_cct[df_cct[\"Is Fraud?\"] == 1 ],bins=2,stat='percent', color = 'orange')\n",
    "plt.xlabel(\"bad_pin\")\n",
    "plt.title(\"Fraud\")\n",
    "\n",
    "plt.tight_layout()\n",
    "plt.show()\n",
    "\n",
    "plt.subplot(2,4,3)\n",
    "sns.histplot(x='insufficient_balance',data=df_cct[df_cct[\"Is Fraud?\"] == 0],bins=2, stat='percent')\n",
    "plt.xlabel(\"insufficient_balance\")\n",
    "plt.title(\"No Fraud\")\n",
    "\n",
    "plt.subplot(2,4,4) \n",
    "sns.histplot(x='insufficient_balance',data=df_cct[df_cct[\"Is Fraud?\"] == 1 ],bins=2,stat='percent', color = 'orange')\n",
    "plt.xlabel(\"insufficient_balance\")\n",
    "plt.title(\"Fraud\")\n",
    "\n",
    "plt.tight_layout()\n",
    "plt.show()"
   ]
  },
  {
   "cell_type": "code",
   "execution_count": null,
   "id": "d7faad1b",
   "metadata": {},
   "outputs": [],
   "source": []
  },
  {
   "cell_type": "code",
   "execution_count": null,
   "id": "7c0330bc",
   "metadata": {},
   "outputs": [],
   "source": [
    "df_cct=df\n",
    "plt.figure(figsize=(25,4))\n",
    "\n",
    "plt.subplot(1,4,1)\n",
    "sns.histplot(x='insufficient_balance',data=df_cct[df_cct[\"Is Fraud?\"] == 0],bins=2, stat='percent')\n",
    "plt.xlabel(\"insufficient_balance\")\n",
    "plt.title(\"No Fraud\")\n",
    "\n",
    "plt.subplot(1,4,2) \n",
    "sns.histplot(x='insufficient_balance',data=df_cct[df_cct[\"Is Fraud?\"] == 1 ],bins=2,stat='percent', color = 'orange')\n",
    "plt.xlabel(\"insufficient_balance\")\n",
    "plt.title(\"Fraud\")\n",
    "\n",
    "plt.tight_layout()\n",
    "plt.show()"
   ]
  },
  {
   "cell_type": "code",
   "execution_count": null,
   "id": "e7a91b2a",
   "metadata": {},
   "outputs": [],
   "source": [
    "df_cct=df\n",
    "plt.figure(figsize=(25,4))\n",
    "\n",
    "plt.subplot(1,4,1)\n",
    "sns.histplot(x='bad_pin',data=df_cct[df_cct[\"Is Fraud?\"] == 0],bins=2, stat='percent')\n",
    "plt.xlabel(\"bad_pin\")\n",
    "plt.title(\"No Fraud\")\n",
    "\n",
    "plt.subplot(1,4,2) \n",
    "sns.histplot(x='bad_pin',data=df_cct[df_cct[\"Is Fraud?\"] == 1 ],stat='percent', bins=2,color = 'orange')\n",
    "plt.xlabel(\"bad_pin\")\n",
    "plt.title(\"Fraud\")\n",
    "\n",
    "plt.tight_layout()\n",
    "plt.show()"
   ]
  },
  {
   "cell_type": "code",
   "execution_count": null,
   "id": "be9a7cd8",
   "metadata": {},
   "outputs": [],
   "source": []
  },
  {
   "cell_type": "code",
   "execution_count": null,
   "id": "892412cc",
   "metadata": {},
   "outputs": [],
   "source": []
  },
  {
   "cell_type": "code",
   "execution_count": null,
   "id": "032af60b",
   "metadata": {},
   "outputs": [],
   "source": []
  },
  {
   "cell_type": "code",
   "execution_count": null,
   "id": "bf63c32f",
   "metadata": {},
   "outputs": [],
   "source": []
  },
  {
   "cell_type": "code",
   "execution_count": null,
   "id": "583aad44",
   "metadata": {},
   "outputs": [],
   "source": []
  },
  {
   "cell_type": "code",
   "execution_count": null,
   "id": "ef256a75",
   "metadata": {},
   "outputs": [],
   "source": []
  },
  {
   "cell_type": "code",
   "execution_count": null,
   "id": "85a42b37",
   "metadata": {},
   "outputs": [],
   "source": []
  },
  {
   "cell_type": "code",
   "execution_count": null,
   "id": "5262fa80",
   "metadata": {},
   "outputs": [],
   "source": []
  },
  {
   "cell_type": "code",
   "execution_count": null,
   "id": "e4362dbf",
   "metadata": {},
   "outputs": [],
   "source": [
    "#Un peu de nettoyage\n",
    "\n",
    "df_cct[\"Amount\"] = df_cct[\"Amount\"].str.replace(\"$\",\"\")\n",
    "df_cct[\"Amount\"] = df_cct[\"Amount\"].astype(float)"
   ]
  },
  {
   "cell_type": "code",
   "execution_count": null,
   "id": "723db89f",
   "metadata": {},
   "outputs": [],
   "source": []
  },
  {
   "cell_type": "code",
   "execution_count": null,
   "id": "f82b6bfb",
   "metadata": {},
   "outputs": [],
   "source": []
  },
  {
   "cell_type": "code",
   "execution_count": null,
   "id": "3339ae46",
   "metadata": {},
   "outputs": [],
   "source": []
  },
  {
   "cell_type": "code",
   "execution_count": null,
   "id": "b9a9c1ce",
   "metadata": {},
   "outputs": [],
   "source": []
  },
  {
   "cell_type": "code",
   "execution_count": null,
   "id": "c867d8e1",
   "metadata": {},
   "outputs": [],
   "source": []
  },
  {
   "cell_type": "code",
   "execution_count": null,
   "id": "d5b51f6c",
   "metadata": {},
   "outputs": [],
   "source": []
  },
  {
   "cell_type": "code",
   "execution_count": null,
   "id": "5f980018",
   "metadata": {},
   "outputs": [],
   "source": []
  },
  {
   "cell_type": "code",
   "execution_count": null,
   "id": "644079c4",
   "metadata": {},
   "outputs": [],
   "source": []
  },
  {
   "cell_type": "code",
   "execution_count": null,
   "id": "c55fe126",
   "metadata": {},
   "outputs": [],
   "source": []
  },
  {
   "cell_type": "code",
   "execution_count": null,
   "id": "824fdf9b",
   "metadata": {},
   "outputs": [],
   "source": []
  },
  {
   "cell_type": "code",
   "execution_count": null,
   "id": "4389d769",
   "metadata": {},
   "outputs": [],
   "source": []
  },
  {
   "cell_type": "code",
   "execution_count": null,
   "id": "459c3138",
   "metadata": {},
   "outputs": [],
   "source": []
  },
  {
   "cell_type": "code",
   "execution_count": null,
   "id": "5bfefc51",
   "metadata": {},
   "outputs": [],
   "source": []
  },
  {
   "cell_type": "code",
   "execution_count": null,
   "id": "b9304ce9",
   "metadata": {},
   "outputs": [],
   "source": []
  }
 ],
 "metadata": {
  "kernelspec": {
   "display_name": "base",
   "language": "python",
   "name": "python3"
  },
  "language_info": {
   "codemirror_mode": {
    "name": "ipython",
    "version": 3
   },
   "file_extension": ".py",
   "mimetype": "text/x-python",
   "name": "python",
   "nbconvert_exporter": "python",
   "pygments_lexer": "ipython3",
   "version": "3.10.8 | packaged by conda-forge | (main, Nov 22 2022, 08:26:04) [GCC 10.4.0]"
  },
  "vscode": {
   "interpreter": {
    "hash": "3fa046f995eb80ac40c0869a1f9df46519f4ada8b8c395ef25dd1aa1a1a2fc63"
   }
  }
 },
 "nbformat": 4,
 "nbformat_minor": 5
}
